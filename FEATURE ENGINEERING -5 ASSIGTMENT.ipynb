{
 "cells": [
  {
   "cell_type": "markdown",
   "id": "cb8a2866-86b7-4c03-8f54-7afcd475636f",
   "metadata": {},
   "source": [
    "* Q1. What is the difference between Ordinal Encoding and Label Encoding? Provide an example of when you\r\n",
    "might choose one over the other."
   ]
  },
  {
   "cell_type": "markdown",
   "id": "0ab14b0d-cb18-4617-8a1d-b550a18887e0",
   "metadata": {},
   "source": [
    "# Label Encoding :\n",
    "\n",
    "* Label Encoding assigns a unique integer to each category in a categorical variabl without imply any order.For example , if we have a variable \"Colour\" with categories \"Red\",\"Green\" and \"Blue\",label Encoding might assign :\n",
    "\n",
    "* Red --> 0\n",
    "* Green --> 1\n",
    "* Blue --> 2\n",
    "\n",
    "# Ordinal Encoding :\n",
    "\n",
    "* Ordinal Encoding is used for categorical variables where there is a meaningful order among the categories.It assigns integers in a way that refelects this order . For Example , for a variable \"Size\" with categories \"Small\",\"Medium\"and \"Large\",we might encode it as :\n",
    "\n",
    "* Small --> 1\n",
    "* Medium --> 2\n",
    "* Large --> 3\n",
    "\n",
    "# When To Choose Oner Over the Other :\n",
    "\n",
    "* Choose Label Encoding : when the categories do not have an inherent order . For Example , encoding the color variables is best done with label Encoding since \"Red\",\"Green\"and \"Blue\" do not have ranking .\n",
    "\n",
    "* Choose Ordinal Encoding : When the categories have a clear order or ranking . For instance in the \"Size\" example it make sense to use Ordinal Encoding to reflect the relationship between the sizes ."
   ]
  },
  {
   "cell_type": "markdown",
   "id": "a2ed0d61-c56b-469f-b119-07a5912f3ec4",
   "metadata": {},
   "source": [
    "Q2. Explain how Target Guided Ordinal Encoding works and provide an example of when you might use it in\r\n",
    "a machine learning project."
   ]
  },
  {
   "cell_type": "markdown",
   "id": "38167a4f-99b8-43c4-8f0c-c1822afd1caa",
   "metadata": {},
   "source": [
    "# Target Guided Ordinal Encoding :\n",
    "\n",
    "* Target Guided Ordinal Encoding is a technique for encoding ordinal categorical variables based on the relationship between the categories and the target variables. Instead of assigning arbitary integers,this method uses the target variables average(or another statistics) for each category to create a meaningful ordinal encoding :\n",
    "\n",
    "# How It Works :\n",
    "\n",
    "* Calculate Target Mean : For each category of the ordinal feature,calculate the mean(or median) of the target variable.\n",
    "\n",
    "* Assign Encoding : Assign Encoding based on these calculated values Categories are sorted based on the target mean,and each category is then assigned a number reflecting its rank .\n",
    "\n",
    "# Example \n",
    "\n",
    "* Suppose we have a dataset for a house pricing prediction model with an ordinal feature called \"Condition\" that has categories : \"Poor\",\"Fair\",\"Good\" and \"Execlent\" . The Target is house price .\n",
    "\n",
    "# Calculate Target Mean :\n",
    "\n",
    "* Poor: $200,000\n",
    "* Fair: $300,000\n",
    "* Good: $400,000\n",
    "* Excellent: $600,000\n",
    "\n",
    "# Assign Encodings:\n",
    "\n",
    "* Poor: 1\n",
    "* Fair: 2\n",
    "* Good: 3\n",
    "* Excellent: 4\n",
    "\n",
    "# When to Use Target Guided Ordinal Encoding :\n",
    "\n",
    "* We Have Ordinal Data: The feature has an inherent order (e.g., ratings, conditions, or levels).\n",
    "\n",
    "* We Want to Leverage Target Information: You aim to enhance the predictive power of your model by directly relating the encoded values to the target variable.\n",
    "\n",
    "* We Want to Reduce the Risk of Information Loss: Unlike simple ordinal encoding, this method captures the relationship between the feature and the target, which can lead to better model performance."
   ]
  },
  {
   "cell_type": "markdown",
   "id": "14111e84-1d38-4e7a-a2d7-5c3db75a6ac6",
   "metadata": {},
   "source": [
    "Q3. Define covariance and explain why it is important in statistical analysis. How is covariance calculated?"
   ]
  },
  {
   "cell_type": "markdown",
   "id": "6bfb62f8-57ca-4a3d-9a86-7e2acbb09a7b",
   "metadata": {},
   "source": [
    "# Covaraince :\n",
    "\n",
    "* Covaraince is a statistical measuremnet that indicates the extent to which random varaibles change together . If the variable tend to increse or decrease simultaneously the covariance is positive;if one variable tend to increase while the other decrease the covarinace is negative . A Covaraince of zero suggest that the two variable do not exhibit any linear relationship .\n",
    "\n",
    "# Importance of Covaraince in Statistical Analysis \n",
    "\n",
    "* Relationship Assessment : Covariance helps in uderstanding the relationship between two variables,making it crucial in field like finance , economics and Science .\n",
    "\n",
    "* Portfolio Theory : In finance , covariance is used to analyze the risk and return of assets in a portfolio,aiding in diversification strategies .\n",
    "\n",
    "* Basis for Correlation : Covaraince is a foundational concept for calculating correlation which standardizes the measure making it eaiser to interpret .\n",
    "\n",
    "* Regression Analysis : In regression covarinace is essential for determining how well one variable predicts another .\n",
    "\n",
    "# Step to Calculate the Covariance :\n",
    "\n",
    "* Find the Means of the two variables .\n",
    "* Substract the mean from each data point to get deviations.\n",
    "* Multiply the deviations for corresponding data points .\n",
    "* Sum the product of the deviations .\n",
    "* Divide by n-1(for a sample) to get the covariance "
   ]
  },
  {
   "cell_type": "markdown",
   "id": "97f09efd-4f38-43c4-b9ca-8a7448671719",
   "metadata": {},
   "source": [
    "Q4. For a dataset with the following categorical variables: Color (red, green, blue), Size (small, medium,\r\n",
    "large), and Material (wood, metal, plastic), perform label encoding using Python's scikit-learn library.\r\n",
    "Show your code and explain the output."
   ]
  },
  {
   "cell_type": "code",
   "execution_count": 6,
   "id": "a56b44f1-de12-4aef-a5f5-9e48ea4c0f44",
   "metadata": {},
   "outputs": [
    {
     "name": "stdout",
     "output_type": "stream",
     "text": [
      "Encoded DataFrame:\n",
      "   Color  Size  Material\n",
      "0      2     2         2\n",
      "1      1     1         0\n",
      "2      0     0         1\n",
      "3      2     1         2\n",
      "4      0     2         0\n",
      "Color mapping: {'blue': 0, 'green': 1, 'red': 2}\n",
      "Size mapping: {'large': 0, 'medium': 1, 'small': 2}\n",
      "Material mapping: {'metal': 0, 'plastic': 1, 'wood': 2}\n"
     ]
    }
   ],
   "source": [
    "import pandas as pd\n",
    "from sklearn.preprocessing import LabelEncoder\n",
    "\n",
    "# Sample dataset\n",
    "data = {\n",
    "    'Color': ['red', 'green', 'blue', 'red', 'blue'],\n",
    "    'Size': ['small', 'medium', 'large', 'medium', 'small'],\n",
    "    'Material': ['wood', 'metal', 'plastic', 'wood', 'metal']\n",
    "}\n",
    "\n",
    "# Create a DataFrame\n",
    "df = pd.DataFrame(data)\n",
    "\n",
    "# Initialize a dictionary to store LabelEncoders\n",
    "label_encoders = {}\n",
    "\n",
    "# Perform label encoding for each categorical column\n",
    "for column in df.columns:\n",
    "    le = LabelEncoder()\n",
    "    df[column] = le.fit_transform(df[column])\n",
    "    label_encoders[column] = le  # Store the encoder for future reference\n",
    "\n",
    "# Display the encoded DataFrame\n",
    "print(\"Encoded DataFrame:\")\n",
    "print(df)\n",
    "\n",
    "# Display the mapping of each categorical variable to its integer representation\n",
    "for column, le in label_encoders.items():\n",
    "    print(f\"{column} mapping: {dict(zip(le.classes_, range(len(le.classes_))))}\")\n"
   ]
  },
  {
   "cell_type": "markdown",
   "id": "4dd8702a-881d-48fe-baba-e58f35272259",
   "metadata": {},
   "source": [
    "* Encoded DataFrame: Each categorical value is replaced with an integer:\n",
    "* Color: 'blue' is encoded as 0, 'green' as 1, and 'red' as 2.\n",
    "* Size: 'large' is 0, 'medium' is 1, and 'small' is 2.\n",
    "\n",
    "* Material: 'metal' is 0, 'plastic' is 1, and 'wood' is 2.\n",
    "* Mappings: This output provides clarity on how each original category is transformed into integers, which can be helpful for * understanding the encoding process and for later analysis or modeling."
   ]
  },
  {
   "cell_type": "markdown",
   "id": "97fac3bf-9956-497f-8c00-1610249c7481",
   "metadata": {},
   "source": [
    "Q5. Calculate the covariance matrix for the following variables in a dataset: Age, Income, and Education\r\n",
    "level. Interpret the results."
   ]
  },
  {
   "cell_type": "markdown",
   "id": "b4fa36b2-c91a-4900-87a1-4944020590c6",
   "metadata": {},
   "source": [
    "* Let the Sample Dataset :\n",
    "* Age\tIncome\tEducation Level\n",
    "* 25\t50000\t     2\n",
    "* 30\t60000\t     3\n",
    "* 35\t80000\t     4\n",
    "* 40\t100000\t     4\n",
    "* 45\t120000\t     5\n",
    "\n",
    "* In this Dataset\n",
    "* Age is Numerical Variable\n",
    "* Income is a numerical variable\n",
    "* Education Level is a categoricl varaible which we can convert to numerical(using Label Encoding)"
   ]
  },
  {
   "cell_type": "code",
   "execution_count": 7,
   "id": "5509ccd4-b98b-4ba2-adca-dcc86e35ba51",
   "metadata": {},
   "outputs": [
    {
     "name": "stdout",
     "output_type": "stream",
     "text": [
      "Covaraince Matrix:\n",
      "                       Age       Income  Education Level\n",
      "Age                  62.50     225000.0             8.75\n",
      "Income           225000.00  820000000.0         31000.00\n",
      "Education Level       8.75      31000.0             1.30\n"
     ]
    }
   ],
   "source": [
    "import pandas as pd\n",
    "\n",
    "# Sample Dataset :\n",
    "data = {\n",
    "    'Age' : [25,30,35,40,45],\n",
    "    'Income' : [50000,60000,80000,100000,120000],\n",
    "    'Education Level' : [2,3,4,4,5], # Assuming this is already encoded\n",
    "}\n",
    "\n",
    "# Create DataFrame\n",
    "df = pd.DataFrame(data)\n",
    "\n",
    "# Calculate the Covaraince Matrix\n",
    "cov_matrix = df.cov()\n",
    "\n",
    "# Display the covariance matrix\n",
    "print(\"Covaraince Matrix:\")\n",
    "print(cov_matrix)"
   ]
  },
  {
   "cell_type": "markdown",
   "id": "001a12cb-db73-4163-9ae9-642b22aa2f9d",
   "metadata": {},
   "source": [
    "Q6. You are working on a machine learning project with a dataset containing several categorical\r\n",
    "variables, including \"Gender\" (Male/Female), \"Education Level\" (High School/Bachelor's/Master's/PhD),\r\n",
    "and \"Employment Status\" (Unemployed/Part-Time/Full-Time). Which encoding method would you use for\r\n",
    "each variable, and why?"
   ]
  },
  {
   "cell_type": "markdown",
   "id": "27be7eb5-0823-49f8-8ac3-b3cbcdc53efa",
   "metadata": {},
   "source": [
    "* When dealing with categorical variables in a machine learning project,the choice of encoding method is crucial for model perfromance . Here's how we might approach encoding the specific categorical vraiables :\n",
    "\n",
    "# Gender(Male/Female) :\n",
    "\n",
    "* Encoding Method : Binary Encoding\n",
    "* Reason --> Gender is a binary variable,so it can be effectively encoded as 0 and 1 . This is simple binary encoding is efficient and preserves the ordinal relationship,amking it suitable for most algorithums .\n",
    "\n",
    "# Education Level(High School/Bachelor's/MAster's?PhD):\n",
    "\n",
    "* Encoding Method --> Ordinal Encoding\n",
    "* Reason --> This variable has a natural order(High School < Bachelo's < Master's < PhD).Using ordinal encoding assigns intgers based on this hierarchy(eg:-High School = 0,Bachelor's = 1 , MAster's =  2 , PhD = 3).This can be beneficial for tree-based models and linear regression as they can interpret the ordinl nature of the data .\n",
    "\n",
    "# Employment Status(Umemployed/part-Time/Full-Time):\n",
    "\n",
    "* Encoding Method --> One-Hot Encoding\n",
    "* Reason --> Employment status is a nominal variable with no inherent order.One-Hot Encoding creates binary columns for each category(eg:- Unemployed,Part-Time,Full-Time).This Avoids introducing any ordinal relationships and is effective for models that don't handle categorical variables natively .\n",
    "\n",
    "# Summary OF Encoding Choices :\n",
    "\n",
    "* Gender --> Binary Encoding(0,1)\n",
    "* Education Level --> Ordinal Encoding(0,1,2,3)\n",
    "* Employment Status --> One-Hot Encoding(3 binary columns)"
   ]
  },
  {
   "cell_type": "markdown",
   "id": "c4835705-743d-476e-af6e-d0dffb574de9",
   "metadata": {},
   "source": [
    "Q7. You are analyzing a dataset with two continuous variables, \"Temperature\" and \"Humidity\", and two\r\n",
    "categorical variables, \"Weather Condition\" (Sunny/Cloudy/Rainy) and \"Wind Direction\" (North/South/\r\n",
    "East/West). Calculate the covariance between each pair of variables and interpret the results.\r"
   ]
  },
  {
   "cell_type": "markdown",
   "id": "4c9599b2-9440-41d6-802f-3d79e1754254",
   "metadata": {},
   "source": [
    "# Calculating Covariance ^_^\n",
    "\n",
    "# Calculating the Covariance for the following paris :\n",
    "* Temperature and Humidity (T, H)\n",
    "* Temperature and Weather Condition (T, WC)\n",
    "* Temperature and Wind Direction (T, WD)\n",
    "* Humidity and Weather Condition (H, WC)\n",
    "* Humidity and Wind Direction (H, WD)\n",
    "* Weather Condition and Wind Direction (WC, WD)\n",
    "\n",
    "# Covariance(Temprature,Humidity):\n",
    "\n",
    "* This will provide insight into how temprature and humidity change together . A positive covariance indicates that as temprature increases,humidity tends to increase as well and vice versa.\n",
    "\n",
    "# Covariance (Temperature, Weather Condition):\n",
    "\n",
    "* Since Weather Condition is categorical, you would first need to encode it (e.g., one-hot encoding) before calculating          covariance. The interpretation will be less straightforward, but it will show how temperature relates to specific weather      conditions.\n",
    "\n",
    "# Covariance (Temperature, Wind Direction):\n",
    "\n",
    "* Similar to Weather Condition, you'd need to encode Wind Direction first. Interpretation focuses on how temperature varies      with different wind directions.\n",
    "\n",
    "# Covariance (Humidity, Weather Condition):\n",
    "\n",
    "* Again, encode Weather Condition first. This will reveal how humidity relates to different weather conditions.\n",
    "  Covariance (Humidity, Wind Direction):This will show how humidity changes with different wind directions.\n",
    "\n",
    "# Covariance (Weather Condition, Wind Direction):\n",
    "\n",
    "* This will also require encoding. The result will indicate if there are any relationships between the categories of these two   variables.\n",
    "\n",
    "# Interpretation of Covariance Results\n",
    "* Positive Covariance: Indicates that as one variable increases, the other tends to increase as well.\n",
    "* Negative Covariance: Indicates that as one variable increases, the other tends to decrease.\n",
    "* Near Zero Covariance: Suggests that there is little to no linear relationship between the variables."
   ]
  },
  {
   "cell_type": "code",
   "execution_count": null,
   "id": "7fbb2229-2485-4c36-a90e-47419b188990",
   "metadata": {},
   "outputs": [],
   "source": []
  }
 ],
 "metadata": {
  "kernelspec": {
   "display_name": "Python 3 (ipykernel)",
   "language": "python",
   "name": "python3"
  },
  "language_info": {
   "codemirror_mode": {
    "name": "ipython",
    "version": 3
   },
   "file_extension": ".py",
   "mimetype": "text/x-python",
   "name": "python",
   "nbconvert_exporter": "python",
   "pygments_lexer": "ipython3",
   "version": "3.12.4"
  }
 },
 "nbformat": 4,
 "nbformat_minor": 5
}
